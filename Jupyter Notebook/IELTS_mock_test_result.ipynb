{
  "nbformat": 4,
  "nbformat_minor": 0,
  "metadata": {
    "colab": {
      "name": "IELTS mock test result.ipynb",
      "provenance": [],
      "collapsed_sections": [
        "pPL7jrakOPPJ",
        "x5FnfMvcOXCb",
        "b1HS9KLPObjR",
        "BHjWBwqeOkcb",
        "HT7vtk-xFZtv",
        "WzdOkwa8Fxe1",
        "0pYu9tinF5JS",
        "NolKoYXsGQNr",
        "9zza_2ApDZBs"
      ]
    },
    "kernelspec": {
      "name": "python3",
      "display_name": "Python 3"
    }
  },
  "cells": [
    {
      "cell_type": "markdown",
      "metadata": {
        "id": "pPL7jrakOPPJ"
      },
      "source": [
        "###Import lib and data"
      ]
    },
    {
      "cell_type": "code",
      "metadata": {
        "id": "-WIcEyLwQQcg"
      },
      "source": [
        "import pandas as pd\r\n",
        "import seaborn as sns\r\n",
        "import numpy as np\r\n",
        "from sklearn.preprocessing import PolynomialFeatures\r\n",
        "from sklearn import preprocessing\r\n",
        "from sklearn.pipeline import make_pipeline\r\n",
        "from sklearn.linear_model import LinearRegression\r\n",
        "from sklearn import linear_model\r\n",
        "from sklearn.metrics import mean_squared_error, r2_score"
      ],
      "execution_count": 113,
      "outputs": []
    },
    {
      "cell_type": "code",
      "metadata": {
        "colab": {
          "base_uri": "https://localhost:8080/",
          "height": 204
        },
        "id": "7HpULsKDWfKV",
        "outputId": "a14686b4-24ba-426f-ef5d-c29acab218ac"
      },
      "source": [
        "data = pd.read_excel (r'/content/drive/MyDrive/Document/Book1.xlsx') \r\n",
        "del data['id']\r\n",
        "data.head()"
      ],
      "execution_count": 3,
      "outputs": [
        {
          "output_type": "execute_result",
          "data": {
            "text/html": [
              "<div>\n",
              "<style scoped>\n",
              "    .dataframe tbody tr th:only-of-type {\n",
              "        vertical-align: middle;\n",
              "    }\n",
              "\n",
              "    .dataframe tbody tr th {\n",
              "        vertical-align: top;\n",
              "    }\n",
              "\n",
              "    .dataframe thead th {\n",
              "        text-align: right;\n",
              "    }\n",
              "</style>\n",
              "<table border=\"1\" class=\"dataframe\">\n",
              "  <thead>\n",
              "    <tr style=\"text-align: right;\">\n",
              "      <th></th>\n",
              "      <th>name</th>\n",
              "      <th>listening</th>\n",
              "      <th>reading</th>\n",
              "      <th>writing</th>\n",
              "      <th>speaking</th>\n",
              "      <th>overall</th>\n",
              "    </tr>\n",
              "  </thead>\n",
              "  <tbody>\n",
              "    <tr>\n",
              "      <th>0</th>\n",
              "      <td>Lê Sử Triều An</td>\n",
              "      <td>3.5</td>\n",
              "      <td>3.5</td>\n",
              "      <td>2.5</td>\n",
              "      <td>4.5</td>\n",
              "      <td>3.5</td>\n",
              "    </tr>\n",
              "    <tr>\n",
              "      <th>1</th>\n",
              "      <td>Nguyễn Ngọc An</td>\n",
              "      <td>7.0</td>\n",
              "      <td>6.5</td>\n",
              "      <td>7.0</td>\n",
              "      <td>6.5</td>\n",
              "      <td>7.0</td>\n",
              "    </tr>\n",
              "    <tr>\n",
              "      <th>2</th>\n",
              "      <td>Huỳnh Gia An</td>\n",
              "      <td>6.0</td>\n",
              "      <td>6.5</td>\n",
              "      <td>6.5</td>\n",
              "      <td>6.0</td>\n",
              "      <td>6.5</td>\n",
              "    </tr>\n",
              "    <tr>\n",
              "      <th>3</th>\n",
              "      <td>Nguyễn Khánh An</td>\n",
              "      <td>6.0</td>\n",
              "      <td>6.5</td>\n",
              "      <td>5.5</td>\n",
              "      <td>6.5</td>\n",
              "      <td>6.0</td>\n",
              "    </tr>\n",
              "    <tr>\n",
              "      <th>4</th>\n",
              "      <td>Nguyễn Văn Bảo An</td>\n",
              "      <td>4.0</td>\n",
              "      <td>4.5</td>\n",
              "      <td>3.0</td>\n",
              "      <td>5.0</td>\n",
              "      <td>4.0</td>\n",
              "    </tr>\n",
              "  </tbody>\n",
              "</table>\n",
              "</div>"
            ],
            "text/plain": [
              "                name  listening  reading  writing  speaking  overall\n",
              "0     Lê Sử Triều An        3.5      3.5      2.5       4.5      3.5\n",
              "1     Nguyễn Ngọc An        7.0      6.5      7.0       6.5      7.0\n",
              "2       Huỳnh Gia An        6.0      6.5      6.5       6.0      6.5\n",
              "3    Nguyễn Khánh An        6.0      6.5      5.5       6.5      6.0\n",
              "4  Nguyễn Văn Bảo An        4.0      4.5      3.0       5.0      4.0"
            ]
          },
          "metadata": {
            "tags": []
          },
          "execution_count": 3
        }
      ]
    },
    {
      "cell_type": "markdown",
      "metadata": {
        "id": "x5FnfMvcOXCb"
      },
      "source": [
        "###Overview"
      ]
    },
    {
      "cell_type": "code",
      "metadata": {
        "colab": {
          "base_uri": "https://localhost:8080/"
        },
        "id": "9kI77n2SW09T",
        "outputId": "986d7f66-6095-4f08-a6ea-8b32e5ba3b02"
      },
      "source": [
        "data.info()"
      ],
      "execution_count": 11,
      "outputs": [
        {
          "output_type": "stream",
          "text": [
            "<class 'pandas.core.frame.DataFrame'>\n",
            "RangeIndex: 508 entries, 0 to 507\n",
            "Data columns (total 6 columns):\n",
            " #   Column     Non-Null Count  Dtype  \n",
            "---  ------     --------------  -----  \n",
            " 0   name       508 non-null    object \n",
            " 1   listening  464 non-null    float64\n",
            " 2   reading    464 non-null    float64\n",
            " 3   writing    462 non-null    float64\n",
            " 4   speaking   458 non-null    float64\n",
            " 5   overall    441 non-null    float64\n",
            "dtypes: float64(5), object(1)\n",
            "memory usage: 23.9+ KB\n"
          ],
          "name": "stdout"
        }
      ]
    },
    {
      "cell_type": "code",
      "metadata": {
        "colab": {
          "base_uri": "https://localhost:8080/",
          "height": 297
        },
        "id": "2FodfpxPYWch",
        "outputId": "74047644-a6a7-4937-8f34-a074f392fb59"
      },
      "source": [
        "data.describe()"
      ],
      "execution_count": null,
      "outputs": [
        {
          "output_type": "execute_result",
          "data": {
            "text/html": [
              "<div>\n",
              "<style scoped>\n",
              "    .dataframe tbody tr th:only-of-type {\n",
              "        vertical-align: middle;\n",
              "    }\n",
              "\n",
              "    .dataframe tbody tr th {\n",
              "        vertical-align: top;\n",
              "    }\n",
              "\n",
              "    .dataframe thead th {\n",
              "        text-align: right;\n",
              "    }\n",
              "</style>\n",
              "<table border=\"1\" class=\"dataframe\">\n",
              "  <thead>\n",
              "    <tr style=\"text-align: right;\">\n",
              "      <th></th>\n",
              "      <th>listening</th>\n",
              "      <th>reading</th>\n",
              "      <th>writing</th>\n",
              "      <th>speaking</th>\n",
              "      <th>overall</th>\n",
              "    </tr>\n",
              "  </thead>\n",
              "  <tbody>\n",
              "    <tr>\n",
              "      <th>count</th>\n",
              "      <td>464.000000</td>\n",
              "      <td>464.000000</td>\n",
              "      <td>462.000000</td>\n",
              "      <td>458.000000</td>\n",
              "      <td>441.000000</td>\n",
              "    </tr>\n",
              "    <tr>\n",
              "      <th>mean</th>\n",
              "      <td>4.506466</td>\n",
              "      <td>5.246767</td>\n",
              "      <td>3.995671</td>\n",
              "      <td>5.744541</td>\n",
              "      <td>4.979592</td>\n",
              "    </tr>\n",
              "    <tr>\n",
              "      <th>std</th>\n",
              "      <td>1.161831</td>\n",
              "      <td>1.194385</td>\n",
              "      <td>1.484914</td>\n",
              "      <td>1.153068</td>\n",
              "      <td>0.996946</td>\n",
              "    </tr>\n",
              "    <tr>\n",
              "      <th>min</th>\n",
              "      <td>0.000000</td>\n",
              "      <td>1.000000</td>\n",
              "      <td>1.000000</td>\n",
              "      <td>0.000000</td>\n",
              "      <td>1.000000</td>\n",
              "    </tr>\n",
              "    <tr>\n",
              "      <th>25%</th>\n",
              "      <td>4.000000</td>\n",
              "      <td>4.500000</td>\n",
              "      <td>3.000000</td>\n",
              "      <td>5.000000</td>\n",
              "      <td>4.500000</td>\n",
              "    </tr>\n",
              "    <tr>\n",
              "      <th>50%</th>\n",
              "      <td>4.500000</td>\n",
              "      <td>5.500000</td>\n",
              "      <td>4.000000</td>\n",
              "      <td>6.000000</td>\n",
              "      <td>5.000000</td>\n",
              "    </tr>\n",
              "    <tr>\n",
              "      <th>75%</th>\n",
              "      <td>5.500000</td>\n",
              "      <td>6.000000</td>\n",
              "      <td>5.000000</td>\n",
              "      <td>6.500000</td>\n",
              "      <td>5.500000</td>\n",
              "    </tr>\n",
              "    <tr>\n",
              "      <th>max</th>\n",
              "      <td>7.500000</td>\n",
              "      <td>8.500000</td>\n",
              "      <td>7.500000</td>\n",
              "      <td>8.500000</td>\n",
              "      <td>7.500000</td>\n",
              "    </tr>\n",
              "  </tbody>\n",
              "</table>\n",
              "</div>"
            ],
            "text/plain": [
              "        listening     reading     writing    speaking     overall\n",
              "count  464.000000  464.000000  462.000000  458.000000  441.000000\n",
              "mean     4.506466    5.246767    3.995671    5.744541    4.979592\n",
              "std      1.161831    1.194385    1.484914    1.153068    0.996946\n",
              "min      0.000000    1.000000    1.000000    0.000000    1.000000\n",
              "25%      4.000000    4.500000    3.000000    5.000000    4.500000\n",
              "50%      4.500000    5.500000    4.000000    6.000000    5.000000\n",
              "75%      5.500000    6.000000    5.000000    6.500000    5.500000\n",
              "max      7.500000    8.500000    7.500000    8.500000    7.500000"
            ]
          },
          "metadata": {
            "tags": []
          },
          "execution_count": 59
        }
      ]
    },
    {
      "cell_type": "markdown",
      "metadata": {
        "id": "b1HS9KLPObjR"
      },
      "source": [
        "###Score distribution"
      ]
    },
    {
      "cell_type": "code",
      "metadata": {
        "colab": {
          "base_uri": "https://localhost:8080/",
          "height": 1000
        },
        "id": "U__Rd4Ycaq0y",
        "outputId": "0cf94ade-75be-4415-e257-7ab6f1522a9f"
      },
      "source": [
        "sns.displot(data.overall.dropna())\r\n",
        "sns.displot(data.listening.dropna())\r\n",
        "sns.displot(data.reading.dropna())\r\n",
        "sns.displot(data.writing.dropna())\r\n",
        "sns.displot(data.speaking.dropna())"
      ],
      "execution_count": null,
      "outputs": [
        {
          "output_type": "execute_result",
          "data": {
            "text/plain": [
              "<seaborn.axisgrid.FacetGrid at 0x7fd9c25dfdd8>"
            ]
          },
          "metadata": {
            "tags": []
          },
          "execution_count": 60
        },
        {
          "output_type": "display_data",
          "data": {
            "image/png": "[encoded data removed]",
            "text/plain": [
              "<Figure size 360x360 with 1 Axes>"
            ]
          },
          "metadata": {
            "tags": [],
            "needs_background": "light"
          }
        },
        {
          "output_type": "display_data",
          "data": {
            "image/png": "[encoded data removed]",
            "text/plain": [
              "<Figure size 360x360 with 1 Axes>"
            ]
          },
          "metadata": {
            "tags": [],
            "needs_background": "light"
          }
        },
        {
          "output_type": "display_data",
          "data": {
            "image/png": "[encoded data removed]",
            "text/plain": [
              "<Figure size 360x360 with 1 Axes>"
            ]
          },
          "metadata": {
            "tags": [],
            "needs_background": "light"
          }
        },
        {
          "output_type": "display_data",
          "data": {
            "image/png": "[encoded data removed]",
            "text/plain": [
              "<Figure size 360x360 with 1 Axes>"
            ]
          },
          "metadata": {
            "tags": [],
            "needs_background": "light"
          }
        },
        {
          "output_type": "display_data",
          "data": {
            "image/png": "[encoded data removed]",
            "text/plain": [
              "<Figure size 360x360 with 1 Axes>"
            ]
          },
          "metadata": {
            "tags": [],
            "needs_background": "light"
          }
        }
      ]
    },
    {
      "cell_type": "markdown",
      "metadata": {
        "id": "BHjWBwqeOkcb"
      },
      "source": [
        "###Best result"
      ]
    },
    {
      "cell_type": "code",
      "metadata": {
        "colab": {
          "base_uri": "https://localhost:8080/",
          "height": 204
        },
        "id": "IFd43K6jgXX8",
        "outputId": "2e53d958-7b4c-481d-fd5d-9f80ae4ef55b"
      },
      "source": [
        "data.sort_values(by='overall', ascending=False).head()"
      ],
      "execution_count": null,
      "outputs": [
        {
          "output_type": "execute_result",
          "data": {
            "text/html": [
              "<div>\n",
              "<style scoped>\n",
              "    .dataframe tbody tr th:only-of-type {\n",
              "        vertical-align: middle;\n",
              "    }\n",
              "\n",
              "    .dataframe tbody tr th {\n",
              "        vertical-align: top;\n",
              "    }\n",
              "\n",
              "    .dataframe thead th {\n",
              "        text-align: right;\n",
              "    }\n",
              "</style>\n",
              "<table border=\"1\" class=\"dataframe\">\n",
              "  <thead>\n",
              "    <tr style=\"text-align: right;\">\n",
              "      <th></th>\n",
              "      <th>name</th>\n",
              "      <th>listening</th>\n",
              "      <th>reading</th>\n",
              "      <th>writing</th>\n",
              "      <th>speaking</th>\n",
              "      <th>overall</th>\n",
              "    </tr>\n",
              "  </thead>\n",
              "  <tbody>\n",
              "    <tr>\n",
              "      <th>271</th>\n",
              "      <td>Nguyễn Trần Trọng Nhân</td>\n",
              "      <td>7.0</td>\n",
              "      <td>8.0</td>\n",
              "      <td>6.5</td>\n",
              "      <td>8.0</td>\n",
              "      <td>7.5</td>\n",
              "    </tr>\n",
              "    <tr>\n",
              "      <th>1</th>\n",
              "      <td>Nguyễn Ngọc An</td>\n",
              "      <td>7.0</td>\n",
              "      <td>6.5</td>\n",
              "      <td>7.0</td>\n",
              "      <td>6.5</td>\n",
              "      <td>7.0</td>\n",
              "    </tr>\n",
              "    <tr>\n",
              "      <th>30</th>\n",
              "      <td>Nguyễn Hoàng Gia Bảo</td>\n",
              "      <td>7.0</td>\n",
              "      <td>7.0</td>\n",
              "      <td>5.5</td>\n",
              "      <td>8.0</td>\n",
              "      <td>7.0</td>\n",
              "    </tr>\n",
              "    <tr>\n",
              "      <th>476</th>\n",
              "      <td>Nguyễn Hoàng Minh Châu</td>\n",
              "      <td>6.5</td>\n",
              "      <td>7.5</td>\n",
              "      <td>6.5</td>\n",
              "      <td>7.0</td>\n",
              "      <td>7.0</td>\n",
              "    </tr>\n",
              "    <tr>\n",
              "      <th>45</th>\n",
              "      <td>Nguyễn Ngọc Uyên Chi</td>\n",
              "      <td>6.0</td>\n",
              "      <td>8.0</td>\n",
              "      <td>5.0</td>\n",
              "      <td>8.0</td>\n",
              "      <td>7.0</td>\n",
              "    </tr>\n",
              "  </tbody>\n",
              "</table>\n",
              "</div>"
            ],
            "text/plain": [
              "                       name  listening  reading  writing  speaking  overall\n",
              "271  Nguyễn Trần Trọng Nhân        7.0      8.0      6.5       8.0      7.5\n",
              "1            Nguyễn Ngọc An        7.0      6.5      7.0       6.5      7.0\n",
              "30     Nguyễn Hoàng Gia Bảo        7.0      7.0      5.5       8.0      7.0\n",
              "476  Nguyễn Hoàng Minh Châu        6.5      7.5      6.5       7.0      7.0\n",
              "45     Nguyễn Ngọc Uyên Chi        6.0      8.0      5.0       8.0      7.0"
            ]
          },
          "metadata": {
            "tags": []
          },
          "execution_count": 61
        }
      ]
    },
    {
      "cell_type": "code",
      "metadata": {
        "colab": {
          "base_uri": "https://localhost:8080/",
          "height": 421
        },
        "id": "Hu8Yi5nuctiy",
        "outputId": "5a364424-0121-4424-a1c4-0391bcbfacc2"
      },
      "source": [
        "data[(data['reading'] >= 6.5) & (data['listening'] >= 6.5)]"
      ],
      "execution_count": null,
      "outputs": [
        {
          "output_type": "execute_result",
          "data": {
            "text/html": [
              "<div>\n",
              "<style scoped>\n",
              "    .dataframe tbody tr th:only-of-type {\n",
              "        vertical-align: middle;\n",
              "    }\n",
              "\n",
              "    .dataframe tbody tr th {\n",
              "        vertical-align: top;\n",
              "    }\n",
              "\n",
              "    .dataframe thead th {\n",
              "        text-align: right;\n",
              "    }\n",
              "</style>\n",
              "<table border=\"1\" class=\"dataframe\">\n",
              "  <thead>\n",
              "    <tr style=\"text-align: right;\">\n",
              "      <th></th>\n",
              "      <th>name</th>\n",
              "      <th>listening</th>\n",
              "      <th>reading</th>\n",
              "      <th>writing</th>\n",
              "      <th>speaking</th>\n",
              "      <th>overall</th>\n",
              "    </tr>\n",
              "  </thead>\n",
              "  <tbody>\n",
              "    <tr>\n",
              "      <th>1</th>\n",
              "      <td>Nguyễn Ngọc An</td>\n",
              "      <td>7.0</td>\n",
              "      <td>6.5</td>\n",
              "      <td>7.0</td>\n",
              "      <td>6.5</td>\n",
              "      <td>7.0</td>\n",
              "    </tr>\n",
              "    <tr>\n",
              "      <th>19</th>\n",
              "      <td>Nguyễn Ngọc Quế Anh</td>\n",
              "      <td>7.0</td>\n",
              "      <td>8.0</td>\n",
              "      <td>5.0</td>\n",
              "      <td>6.5</td>\n",
              "      <td>6.5</td>\n",
              "    </tr>\n",
              "    <tr>\n",
              "      <th>30</th>\n",
              "      <td>Nguyễn Hoàng Gia Bảo</td>\n",
              "      <td>7.0</td>\n",
              "      <td>7.0</td>\n",
              "      <td>5.5</td>\n",
              "      <td>8.0</td>\n",
              "      <td>7.0</td>\n",
              "    </tr>\n",
              "    <tr>\n",
              "      <th>57</th>\n",
              "      <td>Võ Nam Đăng</td>\n",
              "      <td>6.5</td>\n",
              "      <td>7.5</td>\n",
              "      <td>5.0</td>\n",
              "      <td>6.5</td>\n",
              "      <td>6.5</td>\n",
              "    </tr>\n",
              "    <tr>\n",
              "      <th>67</th>\n",
              "      <td>Dương Tấn Đạt</td>\n",
              "      <td>6.5</td>\n",
              "      <td>6.5</td>\n",
              "      <td>5.0</td>\n",
              "      <td>7.5</td>\n",
              "      <td>6.5</td>\n",
              "    </tr>\n",
              "    <tr>\n",
              "      <th>170</th>\n",
              "      <td>Lê Minh Khôi</td>\n",
              "      <td>6.5</td>\n",
              "      <td>7.0</td>\n",
              "      <td>4.5</td>\n",
              "      <td>7.5</td>\n",
              "      <td>6.5</td>\n",
              "    </tr>\n",
              "    <tr>\n",
              "      <th>176</th>\n",
              "      <td>Mai Đình Khôi</td>\n",
              "      <td>6.5</td>\n",
              "      <td>7.5</td>\n",
              "      <td>4.5</td>\n",
              "      <td>6.5</td>\n",
              "      <td>6.5</td>\n",
              "    </tr>\n",
              "    <tr>\n",
              "      <th>236</th>\n",
              "      <td>Nguyễn Như Hoài Nam</td>\n",
              "      <td>6.5</td>\n",
              "      <td>6.5</td>\n",
              "      <td>3.0</td>\n",
              "      <td>7.5</td>\n",
              "      <td>6.0</td>\n",
              "    </tr>\n",
              "    <tr>\n",
              "      <th>271</th>\n",
              "      <td>Nguyễn Trần Trọng Nhân</td>\n",
              "      <td>7.0</td>\n",
              "      <td>8.0</td>\n",
              "      <td>6.5</td>\n",
              "      <td>8.0</td>\n",
              "      <td>7.5</td>\n",
              "    </tr>\n",
              "    <tr>\n",
              "      <th>307</th>\n",
              "      <td>Đoàn Trần Thiên Phúc</td>\n",
              "      <td>6.5</td>\n",
              "      <td>8.5</td>\n",
              "      <td>5.0</td>\n",
              "      <td>5.5</td>\n",
              "      <td>6.5</td>\n",
              "    </tr>\n",
              "    <tr>\n",
              "      <th>376</th>\n",
              "      <td>Trần Phước Thịnh</td>\n",
              "      <td>7.5</td>\n",
              "      <td>6.5</td>\n",
              "      <td>7.0</td>\n",
              "      <td>7.0</td>\n",
              "      <td>7.0</td>\n",
              "    </tr>\n",
              "    <tr>\n",
              "      <th>476</th>\n",
              "      <td>Nguyễn Hoàng Minh Châu</td>\n",
              "      <td>6.5</td>\n",
              "      <td>7.5</td>\n",
              "      <td>6.5</td>\n",
              "      <td>7.0</td>\n",
              "      <td>7.0</td>\n",
              "    </tr>\n",
              "  </tbody>\n",
              "</table>\n",
              "</div>"
            ],
            "text/plain": [
              "                       name  listening  reading  writing  speaking  overall\n",
              "1            Nguyễn Ngọc An        7.0      6.5      7.0       6.5      7.0\n",
              "19      Nguyễn Ngọc Quế Anh        7.0      8.0      5.0       6.5      6.5\n",
              "30     Nguyễn Hoàng Gia Bảo        7.0      7.0      5.5       8.0      7.0\n",
              "57              Võ Nam Đăng        6.5      7.5      5.0       6.5      6.5\n",
              "67            Dương Tấn Đạt        6.5      6.5      5.0       7.5      6.5\n",
              "170            Lê Minh Khôi        6.5      7.0      4.5       7.5      6.5\n",
              "176           Mai Đình Khôi        6.5      7.5      4.5       6.5      6.5\n",
              "236     Nguyễn Như Hoài Nam        6.5      6.5      3.0       7.5      6.0\n",
              "271  Nguyễn Trần Trọng Nhân        7.0      8.0      6.5       8.0      7.5\n",
              "307    Đoàn Trần Thiên Phúc        6.5      8.5      5.0       5.5      6.5\n",
              "376        Trần Phước Thịnh        7.5      6.5      7.0       7.0      7.0\n",
              "476  Nguyễn Hoàng Minh Châu        6.5      7.5      6.5       7.0      7.0"
            ]
          },
          "metadata": {
            "tags": []
          },
          "execution_count": 62
        }
      ]
    },
    {
      "cell_type": "markdown",
      "metadata": {
        "id": "HT7vtk-xFZtv"
      },
      "source": [
        "###No skill under 6"
      ]
    },
    {
      "cell_type": "code",
      "metadata": {
        "colab": {
          "base_uri": "https://localhost:8080/",
          "height": 452
        },
        "id": "-Emp_6wrh0t4",
        "outputId": "98f1b772-f709-4676-ca3e-f28494bba420"
      },
      "source": [
        "data[(data['reading'] >= 6) & (data['listening'] >= 6) & (data['writing'] >= 6) & (data['speaking'] >= 6)]"
      ],
      "execution_count": null,
      "outputs": [
        {
          "output_type": "execute_result",
          "data": {
            "text/html": [
              "<div>\n",
              "<style scoped>\n",
              "    .dataframe tbody tr th:only-of-type {\n",
              "        vertical-align: middle;\n",
              "    }\n",
              "\n",
              "    .dataframe tbody tr th {\n",
              "        vertical-align: top;\n",
              "    }\n",
              "\n",
              "    .dataframe thead th {\n",
              "        text-align: right;\n",
              "    }\n",
              "</style>\n",
              "<table border=\"1\" class=\"dataframe\">\n",
              "  <thead>\n",
              "    <tr style=\"text-align: right;\">\n",
              "      <th></th>\n",
              "      <th>name</th>\n",
              "      <th>listening</th>\n",
              "      <th>reading</th>\n",
              "      <th>writing</th>\n",
              "      <th>speaking</th>\n",
              "      <th>overall</th>\n",
              "    </tr>\n",
              "  </thead>\n",
              "  <tbody>\n",
              "    <tr>\n",
              "      <th>1</th>\n",
              "      <td>Nguyễn Ngọc An</td>\n",
              "      <td>7.0</td>\n",
              "      <td>6.5</td>\n",
              "      <td>7.0</td>\n",
              "      <td>6.5</td>\n",
              "      <td>7.0</td>\n",
              "    </tr>\n",
              "    <tr>\n",
              "      <th>2</th>\n",
              "      <td>Huỳnh Gia An</td>\n",
              "      <td>6.0</td>\n",
              "      <td>6.5</td>\n",
              "      <td>6.5</td>\n",
              "      <td>6.0</td>\n",
              "      <td>6.5</td>\n",
              "    </tr>\n",
              "    <tr>\n",
              "      <th>61</th>\n",
              "      <td>Tăng Tuấn Đạt</td>\n",
              "      <td>6.0</td>\n",
              "      <td>7.5</td>\n",
              "      <td>6.0</td>\n",
              "      <td>6.5</td>\n",
              "      <td>6.5</td>\n",
              "    </tr>\n",
              "    <tr>\n",
              "      <th>99</th>\n",
              "      <td>Lê Thanh Hà</td>\n",
              "      <td>6.0</td>\n",
              "      <td>7.0</td>\n",
              "      <td>6.0</td>\n",
              "      <td>7.0</td>\n",
              "      <td>6.5</td>\n",
              "    </tr>\n",
              "    <tr>\n",
              "      <th>113</th>\n",
              "      <td>Trần Minh Hiền</td>\n",
              "      <td>6.0</td>\n",
              "      <td>6.5</td>\n",
              "      <td>6.0</td>\n",
              "      <td>7.0</td>\n",
              "      <td>6.5</td>\n",
              "    </tr>\n",
              "    <tr>\n",
              "      <th>271</th>\n",
              "      <td>Nguyễn Trần Trọng Nhân</td>\n",
              "      <td>7.0</td>\n",
              "      <td>8.0</td>\n",
              "      <td>6.5</td>\n",
              "      <td>8.0</td>\n",
              "      <td>7.5</td>\n",
              "    </tr>\n",
              "    <tr>\n",
              "      <th>297</th>\n",
              "      <td>Phạm Thịnh Phát</td>\n",
              "      <td>6.0</td>\n",
              "      <td>7.5</td>\n",
              "      <td>6.5</td>\n",
              "      <td>7.0</td>\n",
              "      <td>7.0</td>\n",
              "    </tr>\n",
              "    <tr>\n",
              "      <th>317</th>\n",
              "      <td>Nguyễn Lê Khánh Phương</td>\n",
              "      <td>6.5</td>\n",
              "      <td>6.0</td>\n",
              "      <td>6.0</td>\n",
              "      <td>6.5</td>\n",
              "      <td>6.5</td>\n",
              "    </tr>\n",
              "    <tr>\n",
              "      <th>356</th>\n",
              "      <td>Phạm Đức Thắng</td>\n",
              "      <td>6.0</td>\n",
              "      <td>6.5</td>\n",
              "      <td>6.5</td>\n",
              "      <td>7.5</td>\n",
              "      <td>6.5</td>\n",
              "    </tr>\n",
              "    <tr>\n",
              "      <th>376</th>\n",
              "      <td>Trần Phước Thịnh</td>\n",
              "      <td>7.5</td>\n",
              "      <td>6.5</td>\n",
              "      <td>7.0</td>\n",
              "      <td>7.0</td>\n",
              "      <td>7.0</td>\n",
              "    </tr>\n",
              "    <tr>\n",
              "      <th>426</th>\n",
              "      <td>Tống Phương Mỹ Tú</td>\n",
              "      <td>6.0</td>\n",
              "      <td>6.5</td>\n",
              "      <td>6.5</td>\n",
              "      <td>7.5</td>\n",
              "      <td>6.5</td>\n",
              "    </tr>\n",
              "    <tr>\n",
              "      <th>443</th>\n",
              "      <td>Nguyễn Trần Hải Vân</td>\n",
              "      <td>6.0</td>\n",
              "      <td>6.5</td>\n",
              "      <td>6.0</td>\n",
              "      <td>6.5</td>\n",
              "      <td>6.5</td>\n",
              "    </tr>\n",
              "    <tr>\n",
              "      <th>476</th>\n",
              "      <td>Nguyễn Hoàng Minh Châu</td>\n",
              "      <td>6.5</td>\n",
              "      <td>7.5</td>\n",
              "      <td>6.5</td>\n",
              "      <td>7.0</td>\n",
              "      <td>7.0</td>\n",
              "    </tr>\n",
              "  </tbody>\n",
              "</table>\n",
              "</div>"
            ],
            "text/plain": [
              "                       name  listening  reading  writing  speaking  overall\n",
              "1            Nguyễn Ngọc An        7.0      6.5      7.0       6.5      7.0\n",
              "2              Huỳnh Gia An        6.0      6.5      6.5       6.0      6.5\n",
              "61            Tăng Tuấn Đạt        6.0      7.5      6.0       6.5      6.5\n",
              "99              Lê Thanh Hà        6.0      7.0      6.0       7.0      6.5\n",
              "113          Trần Minh Hiền        6.0      6.5      6.0       7.0      6.5\n",
              "271  Nguyễn Trần Trọng Nhân        7.0      8.0      6.5       8.0      7.5\n",
              "297         Phạm Thịnh Phát        6.0      7.5      6.5       7.0      7.0\n",
              "317  Nguyễn Lê Khánh Phương        6.5      6.0      6.0       6.5      6.5\n",
              "356          Phạm Đức Thắng        6.0      6.5      6.5       7.5      6.5\n",
              "376        Trần Phước Thịnh        7.5      6.5      7.0       7.0      7.0\n",
              "426       Tống Phương Mỹ Tú        6.0      6.5      6.5       7.5      6.5\n",
              "443     Nguyễn Trần Hải Vân        6.0      6.5      6.0       6.5      6.5\n",
              "476  Nguyễn Hoàng Minh Châu        6.5      7.5      6.5       7.0      7.0"
            ]
          },
          "metadata": {
            "tags": []
          },
          "execution_count": 63
        }
      ]
    },
    {
      "cell_type": "markdown",
      "metadata": {
        "id": "WzdOkwa8Fxe1"
      },
      "source": [
        "###Only focus on L and R"
      ]
    },
    {
      "cell_type": "code",
      "metadata": {
        "colab": {
          "base_uri": "https://localhost:8080/",
          "height": 1000
        },
        "id": "dTEAk_8kjHYy",
        "outputId": "78e392dd-12e2-450f-8f70-9e9640eda9ec"
      },
      "source": [
        "data2 = data[(data['reading'] > data['writing']) & (data['reading'] > data['speaking']) & (data['listening'] >= data['writing']) & (data['listening'] >= data['speaking'])]\r\n",
        "data2"
      ],
      "execution_count": null,
      "outputs": [
        {
          "output_type": "execute_result",
          "data": {
            "text/html": [
              "<div>\n",
              "<style scoped>\n",
              "    .dataframe tbody tr th:only-of-type {\n",
              "        vertical-align: middle;\n",
              "    }\n",
              "\n",
              "    .dataframe tbody tr th {\n",
              "        vertical-align: top;\n",
              "    }\n",
              "\n",
              "    .dataframe thead th {\n",
              "        text-align: right;\n",
              "    }\n",
              "</style>\n",
              "<table border=\"1\" class=\"dataframe\">\n",
              "  <thead>\n",
              "    <tr style=\"text-align: right;\">\n",
              "      <th></th>\n",
              "      <th>name</th>\n",
              "      <th>listening</th>\n",
              "      <th>reading</th>\n",
              "      <th>writing</th>\n",
              "      <th>speaking</th>\n",
              "      <th>overall</th>\n",
              "    </tr>\n",
              "  </thead>\n",
              "  <tbody>\n",
              "    <tr>\n",
              "      <th>8</th>\n",
              "      <td>Bùi Khánh An</td>\n",
              "      <td>5.0</td>\n",
              "      <td>5.5</td>\n",
              "      <td>5.0</td>\n",
              "      <td>5.0</td>\n",
              "      <td>5.0</td>\n",
              "    </tr>\n",
              "    <tr>\n",
              "      <th>10</th>\n",
              "      <td>Nguyễn Ngọc Hữu Ân</td>\n",
              "      <td>2.5</td>\n",
              "      <td>4.0</td>\n",
              "      <td>1.0</td>\n",
              "      <td>2.5</td>\n",
              "      <td>2.5</td>\n",
              "    </tr>\n",
              "    <tr>\n",
              "      <th>11</th>\n",
              "      <td>Trương Gia Ân</td>\n",
              "      <td>3.0</td>\n",
              "      <td>3.0</td>\n",
              "      <td>1.0</td>\n",
              "      <td>1.0</td>\n",
              "      <td>2.0</td>\n",
              "    </tr>\n",
              "    <tr>\n",
              "      <th>19</th>\n",
              "      <td>Nguyễn Ngọc Quế Anh</td>\n",
              "      <td>7.0</td>\n",
              "      <td>8.0</td>\n",
              "      <td>5.0</td>\n",
              "      <td>6.5</td>\n",
              "      <td>6.5</td>\n",
              "    </tr>\n",
              "    <tr>\n",
              "      <th>31</th>\n",
              "      <td>Dương Danh Gia Bảo</td>\n",
              "      <td>6.0</td>\n",
              "      <td>7.0</td>\n",
              "      <td>4.5</td>\n",
              "      <td>4.5</td>\n",
              "      <td>5.5</td>\n",
              "    </tr>\n",
              "    <tr>\n",
              "      <th>36</th>\n",
              "      <td>Đặng Thanh Bình</td>\n",
              "      <td>4.0</td>\n",
              "      <td>4.5</td>\n",
              "      <td>3.0</td>\n",
              "      <td>3.0</td>\n",
              "      <td>3.5</td>\n",
              "    </tr>\n",
              "    <tr>\n",
              "      <th>54</th>\n",
              "      <td>Phạm Huỳnh Bảo Đại</td>\n",
              "      <td>5.0</td>\n",
              "      <td>6.0</td>\n",
              "      <td>4.5</td>\n",
              "      <td>4.5</td>\n",
              "      <td>5.0</td>\n",
              "    </tr>\n",
              "    <tr>\n",
              "      <th>57</th>\n",
              "      <td>Võ Nam Đăng</td>\n",
              "      <td>6.5</td>\n",
              "      <td>7.5</td>\n",
              "      <td>5.0</td>\n",
              "      <td>6.5</td>\n",
              "      <td>6.5</td>\n",
              "    </tr>\n",
              "    <tr>\n",
              "      <th>58</th>\n",
              "      <td>Trần Minh Đăng</td>\n",
              "      <td>3.5</td>\n",
              "      <td>5.0</td>\n",
              "      <td>2.5</td>\n",
              "      <td>3.5</td>\n",
              "      <td>3.5</td>\n",
              "    </tr>\n",
              "    <tr>\n",
              "      <th>66</th>\n",
              "      <td>Nguyễn Thành Đạt</td>\n",
              "      <td>5.0</td>\n",
              "      <td>5.5</td>\n",
              "      <td>4.5</td>\n",
              "      <td>4.5</td>\n",
              "      <td>5.0</td>\n",
              "    </tr>\n",
              "    <tr>\n",
              "      <th>73</th>\n",
              "      <td>Nguyễn Minh Đức</td>\n",
              "      <td>6.0</td>\n",
              "      <td>6.0</td>\n",
              "      <td>5.0</td>\n",
              "      <td>5.0</td>\n",
              "      <td>5.5</td>\n",
              "    </tr>\n",
              "    <tr>\n",
              "      <th>90</th>\n",
              "      <td>Trần Nhật Duy</td>\n",
              "      <td>6.0</td>\n",
              "      <td>6.5</td>\n",
              "      <td>5.0</td>\n",
              "      <td>5.5</td>\n",
              "      <td>6.0</td>\n",
              "    </tr>\n",
              "    <tr>\n",
              "      <th>117</th>\n",
              "      <td>Nguyễn Duy Hiếu</td>\n",
              "      <td>4.5</td>\n",
              "      <td>7.5</td>\n",
              "      <td>4.5</td>\n",
              "      <td>4.5</td>\n",
              "      <td>5.5</td>\n",
              "    </tr>\n",
              "    <tr>\n",
              "      <th>144</th>\n",
              "      <td>Ngô Duy Khang</td>\n",
              "      <td>6.0</td>\n",
              "      <td>5.5</td>\n",
              "      <td>5.0</td>\n",
              "      <td>4.5</td>\n",
              "      <td>5.5</td>\n",
              "    </tr>\n",
              "    <tr>\n",
              "      <th>147</th>\n",
              "      <td>Võ Như Khang</td>\n",
              "      <td>4.0</td>\n",
              "      <td>5.0</td>\n",
              "      <td>2.0</td>\n",
              "      <td>3.0</td>\n",
              "      <td>3.5</td>\n",
              "    </tr>\n",
              "    <tr>\n",
              "      <th>156</th>\n",
              "      <td>Hồ Ngọc Vân Khanh</td>\n",
              "      <td>2.0</td>\n",
              "      <td>4.0</td>\n",
              "      <td>1.0</td>\n",
              "      <td>0.0</td>\n",
              "      <td>2.0</td>\n",
              "    </tr>\n",
              "    <tr>\n",
              "      <th>176</th>\n",
              "      <td>Mai Đình Khôi</td>\n",
              "      <td>6.5</td>\n",
              "      <td>7.5</td>\n",
              "      <td>4.5</td>\n",
              "      <td>6.5</td>\n",
              "      <td>6.5</td>\n",
              "    </tr>\n",
              "    <tr>\n",
              "      <th>191</th>\n",
              "      <td>Vũ Lưu Hoàng Lan</td>\n",
              "      <td>5.0</td>\n",
              "      <td>5.5</td>\n",
              "      <td>2.5</td>\n",
              "      <td>5.0</td>\n",
              "      <td>4.5</td>\n",
              "    </tr>\n",
              "    <tr>\n",
              "      <th>201</th>\n",
              "      <td>Nguyễn Thành Long</td>\n",
              "      <td>3.5</td>\n",
              "      <td>5.5</td>\n",
              "      <td>1.0</td>\n",
              "      <td>2.5</td>\n",
              "      <td>3.0</td>\n",
              "    </tr>\n",
              "    <tr>\n",
              "      <th>216</th>\n",
              "      <td>Lê Đinh Anh Minh</td>\n",
              "      <td>4.0</td>\n",
              "      <td>4.0</td>\n",
              "      <td>3.5</td>\n",
              "      <td>3.5</td>\n",
              "      <td>4.0</td>\n",
              "    </tr>\n",
              "    <tr>\n",
              "      <th>225</th>\n",
              "      <td>Lê Quang Minh</td>\n",
              "      <td>6.0</td>\n",
              "      <td>7.0</td>\n",
              "      <td>4.5</td>\n",
              "      <td>6.0</td>\n",
              "      <td>6.0</td>\n",
              "    </tr>\n",
              "    <tr>\n",
              "      <th>226</th>\n",
              "      <td>Tống Thụy Khánh Minh</td>\n",
              "      <td>6.0</td>\n",
              "      <td>5.5</td>\n",
              "      <td>4.0</td>\n",
              "      <td>5.0</td>\n",
              "      <td>5.0</td>\n",
              "    </tr>\n",
              "    <tr>\n",
              "      <th>255</th>\n",
              "      <td>Đồng Minh Nghĩa</td>\n",
              "      <td>5.0</td>\n",
              "      <td>5.5</td>\n",
              "      <td>2.0</td>\n",
              "      <td>5.0</td>\n",
              "      <td>4.5</td>\n",
              "    </tr>\n",
              "    <tr>\n",
              "      <th>261</th>\n",
              "      <td>Nguyễn Tuấn Ngọc</td>\n",
              "      <td>3.5</td>\n",
              "      <td>6.0</td>\n",
              "      <td>2.5</td>\n",
              "      <td>3.0</td>\n",
              "      <td>4.0</td>\n",
              "    </tr>\n",
              "    <tr>\n",
              "      <th>266</th>\n",
              "      <td>Dương Tân Nguyên</td>\n",
              "      <td>5.0</td>\n",
              "      <td>6.0</td>\n",
              "      <td>4.0</td>\n",
              "      <td>5.0</td>\n",
              "      <td>5.0</td>\n",
              "    </tr>\n",
              "    <tr>\n",
              "      <th>275</th>\n",
              "      <td>Nguyễn Huỳnh Long Nhi</td>\n",
              "      <td>5.5</td>\n",
              "      <td>6.5</td>\n",
              "      <td>5.0</td>\n",
              "      <td>5.0</td>\n",
              "      <td>5.5</td>\n",
              "    </tr>\n",
              "    <tr>\n",
              "      <th>278</th>\n",
              "      <td>Vũ Ngô Đan Nhi</td>\n",
              "      <td>6.0</td>\n",
              "      <td>7.0</td>\n",
              "      <td>5.5</td>\n",
              "      <td>6.0</td>\n",
              "      <td>6.0</td>\n",
              "    </tr>\n",
              "    <tr>\n",
              "      <th>283</th>\n",
              "      <td>Nguyễn Ngọc Hoàng Nhi</td>\n",
              "      <td>3.0</td>\n",
              "      <td>2.5</td>\n",
              "      <td>1.0</td>\n",
              "      <td>2.0</td>\n",
              "      <td>2.0</td>\n",
              "    </tr>\n",
              "    <tr>\n",
              "      <th>293</th>\n",
              "      <td>Nguyễn Quỳnh Như</td>\n",
              "      <td>5.0</td>\n",
              "      <td>5.5</td>\n",
              "      <td>3.0</td>\n",
              "      <td>4.0</td>\n",
              "      <td>4.5</td>\n",
              "    </tr>\n",
              "    <tr>\n",
              "      <th>302</th>\n",
              "      <td>Huỳnh Lê An Phú</td>\n",
              "      <td>6.0</td>\n",
              "      <td>7.5</td>\n",
              "      <td>5.0</td>\n",
              "      <td>5.0</td>\n",
              "      <td>6.0</td>\n",
              "    </tr>\n",
              "    <tr>\n",
              "      <th>307</th>\n",
              "      <td>Đoàn Trần Thiên Phúc</td>\n",
              "      <td>6.5</td>\n",
              "      <td>8.5</td>\n",
              "      <td>5.0</td>\n",
              "      <td>5.5</td>\n",
              "      <td>6.5</td>\n",
              "    </tr>\n",
              "    <tr>\n",
              "      <th>312</th>\n",
              "      <td>Nguyễn Hữu Phúc</td>\n",
              "      <td>5.0</td>\n",
              "      <td>5.5</td>\n",
              "      <td>3.0</td>\n",
              "      <td>4.5</td>\n",
              "      <td>4.5</td>\n",
              "    </tr>\n",
              "    <tr>\n",
              "      <th>350</th>\n",
              "      <td>Huỳnh Ngọc Nhã Tâm</td>\n",
              "      <td>2.5</td>\n",
              "      <td>4.5</td>\n",
              "      <td>2.0</td>\n",
              "      <td>1.5</td>\n",
              "      <td>2.5</td>\n",
              "    </tr>\n",
              "    <tr>\n",
              "      <th>387</th>\n",
              "      <td>Nguyễn Hoàng Uyên Thy</td>\n",
              "      <td>4.5</td>\n",
              "      <td>5.5</td>\n",
              "      <td>4.5</td>\n",
              "      <td>4.5</td>\n",
              "      <td>5.0</td>\n",
              "    </tr>\n",
              "    <tr>\n",
              "      <th>394</th>\n",
              "      <td>Nguyễn Chánh Tín</td>\n",
              "      <td>4.5</td>\n",
              "      <td>6.5</td>\n",
              "      <td>4.5</td>\n",
              "      <td>4.0</td>\n",
              "      <td>5.0</td>\n",
              "    </tr>\n",
              "    <tr>\n",
              "      <th>414</th>\n",
              "      <td>Nguyễn Minh Trí</td>\n",
              "      <td>5.0</td>\n",
              "      <td>6.5</td>\n",
              "      <td>5.0</td>\n",
              "      <td>4.5</td>\n",
              "      <td>5.5</td>\n",
              "    </tr>\n",
              "    <tr>\n",
              "      <th>451</th>\n",
              "      <td>Lê Ngọc Thảo Vy</td>\n",
              "      <td>6.0</td>\n",
              "      <td>6.5</td>\n",
              "      <td>5.5</td>\n",
              "      <td>5.5</td>\n",
              "      <td>6.0</td>\n",
              "    </tr>\n",
              "    <tr>\n",
              "      <th>462</th>\n",
              "      <td>Nguyễn Thảo Vy</td>\n",
              "      <td>5.5</td>\n",
              "      <td>7.0</td>\n",
              "      <td>5.0</td>\n",
              "      <td>5.0</td>\n",
              "      <td>5.5</td>\n",
              "    </tr>\n",
              "    <tr>\n",
              "      <th>463</th>\n",
              "      <td>Tô Nhã Vy</td>\n",
              "      <td>5.0</td>\n",
              "      <td>6.5</td>\n",
              "      <td>4.5</td>\n",
              "      <td>5.0</td>\n",
              "      <td>5.5</td>\n",
              "    </tr>\n",
              "  </tbody>\n",
              "</table>\n",
              "</div>"
            ],
            "text/plain": [
              "                      name  listening  reading  writing  speaking  overall\n",
              "8             Bùi Khánh An        5.0      5.5      5.0       5.0      5.0\n",
              "10      Nguyễn Ngọc Hữu Ân        2.5      4.0      1.0       2.5      2.5\n",
              "11           Trương Gia Ân        3.0      3.0      1.0       1.0      2.0\n",
              "19     Nguyễn Ngọc Quế Anh        7.0      8.0      5.0       6.5      6.5\n",
              "31      Dương Danh Gia Bảo        6.0      7.0      4.5       4.5      5.5\n",
              "36         Đặng Thanh Bình        4.0      4.5      3.0       3.0      3.5\n",
              "54      Phạm Huỳnh Bảo Đại        5.0      6.0      4.5       4.5      5.0\n",
              "57             Võ Nam Đăng        6.5      7.5      5.0       6.5      6.5\n",
              "58          Trần Minh Đăng        3.5      5.0      2.5       3.5      3.5\n",
              "66        Nguyễn Thành Đạt        5.0      5.5      4.5       4.5      5.0\n",
              "73         Nguyễn Minh Đức        6.0      6.0      5.0       5.0      5.5\n",
              "90           Trần Nhật Duy        6.0      6.5      5.0       5.5      6.0\n",
              "117        Nguyễn Duy Hiếu        4.5      7.5      4.5       4.5      5.5\n",
              "144          Ngô Duy Khang        6.0      5.5      5.0       4.5      5.5\n",
              "147           Võ Như Khang        4.0      5.0      2.0       3.0      3.5\n",
              "156      Hồ Ngọc Vân Khanh        2.0      4.0      1.0       0.0      2.0\n",
              "176          Mai Đình Khôi        6.5      7.5      4.5       6.5      6.5\n",
              "191       Vũ Lưu Hoàng Lan        5.0      5.5      2.5       5.0      4.5\n",
              "201      Nguyễn Thành Long        3.5      5.5      1.0       2.5      3.0\n",
              "216       Lê Đinh Anh Minh        4.0      4.0      3.5       3.5      4.0\n",
              "225          Lê Quang Minh        6.0      7.0      4.5       6.0      6.0\n",
              "226   Tống Thụy Khánh Minh        6.0      5.5      4.0       5.0      5.0\n",
              "255        Đồng Minh Nghĩa        5.0      5.5      2.0       5.0      4.5\n",
              "261       Nguyễn Tuấn Ngọc        3.5      6.0      2.5       3.0      4.0\n",
              "266       Dương Tân Nguyên        5.0      6.0      4.0       5.0      5.0\n",
              "275  Nguyễn Huỳnh Long Nhi        5.5      6.5      5.0       5.0      5.5\n",
              "278         Vũ Ngô Đan Nhi        6.0      7.0      5.5       6.0      6.0\n",
              "283  Nguyễn Ngọc Hoàng Nhi        3.0      2.5      1.0       2.0      2.0\n",
              "293       Nguyễn Quỳnh Như        5.0      5.5      3.0       4.0      4.5\n",
              "302        Huỳnh Lê An Phú        6.0      7.5      5.0       5.0      6.0\n",
              "307   Đoàn Trần Thiên Phúc        6.5      8.5      5.0       5.5      6.5\n",
              "312        Nguyễn Hữu Phúc        5.0      5.5      3.0       4.5      4.5\n",
              "350     Huỳnh Ngọc Nhã Tâm        2.5      4.5      2.0       1.5      2.5\n",
              "387  Nguyễn Hoàng Uyên Thy        4.5      5.5      4.5       4.5      5.0\n",
              "394       Nguyễn Chánh Tín        4.5      6.5      4.5       4.0      5.0\n",
              "414        Nguyễn Minh Trí        5.0      6.5      5.0       4.5      5.5\n",
              "451        Lê Ngọc Thảo Vy        6.0      6.5      5.5       5.5      6.0\n",
              "462         Nguyễn Thảo Vy        5.5      7.0      5.0       5.0      5.5\n",
              "463              Tô Nhã Vy        5.0      6.5      4.5       5.0      5.5"
            ]
          },
          "metadata": {
            "tags": []
          },
          "execution_count": 71
        }
      ]
    },
    {
      "cell_type": "code",
      "metadata": {
        "colab": {
          "base_uri": "https://localhost:8080/"
        },
        "id": "VTzNbTgtkAzW",
        "outputId": "ef4527c6-f5f8-4265-ab08-b655ee346ad4"
      },
      "source": [
        "len(data2)/len(data)*100"
      ],
      "execution_count": null,
      "outputs": [
        {
          "output_type": "execute_result",
          "data": {
            "text/plain": [
              "7.677165354330709"
            ]
          },
          "metadata": {
            "tags": []
          },
          "execution_count": 72
        }
      ]
    },
    {
      "cell_type": "markdown",
      "metadata": {
        "id": "0pYu9tinF5JS"
      },
      "source": [
        "###Boxplot"
      ]
    },
    {
      "cell_type": "code",
      "metadata": {
        "colab": {
          "base_uri": "https://localhost:8080/",
          "height": 282
        },
        "id": "39f47SOW3URO",
        "outputId": "a3426e1d-ce10-4dd2-a197-f845958c78b0"
      },
      "source": [
        "sns.boxplot(data=data.overall.dropna(), orient='h', whis=[0, 100], width=.6)\r\n",
        "sns.stripplot(data=data.overall.dropna(), orient='h', size=4, color=\".3\", linewidth=0)"
      ],
      "execution_count": 91,
      "outputs": [
        {
          "output_type": "execute_result",
          "data": {
            "text/plain": [
              "<matplotlib.axes._subplots.AxesSubplot at 0x7f01775cde10>"
            ]
          },
          "metadata": {
            "tags": []
          },
          "execution_count": 91
        },
        {
          "output_type": "display_data",
          "data": {
            "image/png": "[encoded data removed]",
            "text/plain": [
              "<Figure size 432x288 with 1 Axes>"
            ]
          },
          "metadata": {
            "tags": [],
            "needs_background": "light"
          }
        }
      ]
    },
    {
      "cell_type": "markdown",
      "metadata": {
        "id": "NolKoYXsGQNr"
      },
      "source": [
        "##Predict Overall based on L, R, W, S"
      ]
    },
    {
      "cell_type": "code",
      "metadata": {
        "colab": {
          "base_uri": "https://localhost:8080/"
        },
        "id": "rksse38F8frT",
        "outputId": "2df4a8ab-b040-4ceb-aaf3-13191ef192d2"
      },
      "source": [
        "#Clear missing rows\r\n",
        "df = data.dropna(axis = 'rows')\r\n",
        "df.info()"
      ],
      "execution_count": 160,
      "outputs": [
        {
          "output_type": "stream",
          "text": [
            "<class 'pandas.core.frame.DataFrame'>\n",
            "Int64Index: 441 entries, 0 to 507\n",
            "Data columns (total 6 columns):\n",
            " #   Column     Non-Null Count  Dtype  \n",
            "---  ------     --------------  -----  \n",
            " 0   name       441 non-null    object \n",
            " 1   listening  441 non-null    float64\n",
            " 2   reading    441 non-null    float64\n",
            " 3   writing    441 non-null    float64\n",
            " 4   speaking   441 non-null    float64\n",
            " 5   overall    441 non-null    float64\n",
            "dtypes: float64(5), object(1)\n",
            "memory usage: 24.1+ KB\n"
          ],
          "name": "stdout"
        }
      ]
    },
    {
      "cell_type": "code",
      "metadata": {
        "colab": {
          "base_uri": "https://localhost:8080/",
          "height": 204
        },
        "id": "oVTVTKWZ9E6l",
        "outputId": "797ab495-c709-4f4a-9649-afab9865a58b"
      },
      "source": [
        "X = df.copy(deep=True)\r\n",
        "del X['name']\r\n",
        "del X['overall']\r\n",
        "X.head()"
      ],
      "execution_count": 58,
      "outputs": [
        {
          "output_type": "execute_result",
          "data": {
            "text/html": [
              "<div>\n",
              "<style scoped>\n",
              "    .dataframe tbody tr th:only-of-type {\n",
              "        vertical-align: middle;\n",
              "    }\n",
              "\n",
              "    .dataframe tbody tr th {\n",
              "        vertical-align: top;\n",
              "    }\n",
              "\n",
              "    .dataframe thead th {\n",
              "        text-align: right;\n",
              "    }\n",
              "</style>\n",
              "<table border=\"1\" class=\"dataframe\">\n",
              "  <thead>\n",
              "    <tr style=\"text-align: right;\">\n",
              "      <th></th>\n",
              "      <th>listening</th>\n",
              "      <th>reading</th>\n",
              "      <th>writing</th>\n",
              "      <th>speaking</th>\n",
              "    </tr>\n",
              "  </thead>\n",
              "  <tbody>\n",
              "    <tr>\n",
              "      <th>0</th>\n",
              "      <td>3.5</td>\n",
              "      <td>3.5</td>\n",
              "      <td>2.5</td>\n",
              "      <td>4.5</td>\n",
              "    </tr>\n",
              "    <tr>\n",
              "      <th>1</th>\n",
              "      <td>7.0</td>\n",
              "      <td>6.5</td>\n",
              "      <td>7.0</td>\n",
              "      <td>6.5</td>\n",
              "    </tr>\n",
              "    <tr>\n",
              "      <th>2</th>\n",
              "      <td>6.0</td>\n",
              "      <td>6.5</td>\n",
              "      <td>6.5</td>\n",
              "      <td>6.0</td>\n",
              "    </tr>\n",
              "    <tr>\n",
              "      <th>3</th>\n",
              "      <td>6.0</td>\n",
              "      <td>6.5</td>\n",
              "      <td>5.5</td>\n",
              "      <td>6.5</td>\n",
              "    </tr>\n",
              "    <tr>\n",
              "      <th>4</th>\n",
              "      <td>4.0</td>\n",
              "      <td>4.5</td>\n",
              "      <td>3.0</td>\n",
              "      <td>5.0</td>\n",
              "    </tr>\n",
              "  </tbody>\n",
              "</table>\n",
              "</div>"
            ],
            "text/plain": [
              "   listening  reading  writing  speaking\n",
              "0        3.5      3.5      2.5       4.5\n",
              "1        7.0      6.5      7.0       6.5\n",
              "2        6.0      6.5      6.5       6.0\n",
              "3        6.0      6.5      5.5       6.5\n",
              "4        4.0      4.5      3.0       5.0"
            ]
          },
          "metadata": {
            "tags": []
          },
          "execution_count": 58
        }
      ]
    },
    {
      "cell_type": "code",
      "metadata": {
        "colab": {
          "base_uri": "https://localhost:8080/",
          "height": 204
        },
        "id": "-qgbTV9TAr_z",
        "outputId": "ab20e274-2097-42bc-9a30-32c783290205"
      },
      "source": [
        "y = df.copy(deep=True)\r\n",
        "del y['name']\r\n",
        "del y['reading']\r\n",
        "del y['listening']\r\n",
        "del y['writing']\r\n",
        "del y['speaking']\r\n",
        "y.head()"
      ],
      "execution_count": 57,
      "outputs": [
        {
          "output_type": "execute_result",
          "data": {
            "text/html": [
              "<div>\n",
              "<style scoped>\n",
              "    .dataframe tbody tr th:only-of-type {\n",
              "        vertical-align: middle;\n",
              "    }\n",
              "\n",
              "    .dataframe tbody tr th {\n",
              "        vertical-align: top;\n",
              "    }\n",
              "\n",
              "    .dataframe thead th {\n",
              "        text-align: right;\n",
              "    }\n",
              "</style>\n",
              "<table border=\"1\" class=\"dataframe\">\n",
              "  <thead>\n",
              "    <tr style=\"text-align: right;\">\n",
              "      <th></th>\n",
              "      <th>overall</th>\n",
              "    </tr>\n",
              "  </thead>\n",
              "  <tbody>\n",
              "    <tr>\n",
              "      <th>0</th>\n",
              "      <td>3.5</td>\n",
              "    </tr>\n",
              "    <tr>\n",
              "      <th>1</th>\n",
              "      <td>7.0</td>\n",
              "    </tr>\n",
              "    <tr>\n",
              "      <th>2</th>\n",
              "      <td>6.5</td>\n",
              "    </tr>\n",
              "    <tr>\n",
              "      <th>3</th>\n",
              "      <td>6.0</td>\n",
              "    </tr>\n",
              "    <tr>\n",
              "      <th>4</th>\n",
              "      <td>4.0</td>\n",
              "    </tr>\n",
              "  </tbody>\n",
              "</table>\n",
              "</div>"
            ],
            "text/plain": [
              "   overall\n",
              "0      3.5\n",
              "1      7.0\n",
              "2      6.5\n",
              "3      6.0\n",
              "4      4.0"
            ]
          },
          "metadata": {
            "tags": []
          },
          "execution_count": 57
        }
      ]
    },
    {
      "cell_type": "code",
      "metadata": {
        "id": "DyXjnJuDBQyH"
      },
      "source": [
        "# Split the data into training/testing sets\r\n",
        "X_train = X[:-20]\r\n",
        "X_test = X[-20:]\r\n",
        "\r\n",
        "# Split the targets into training/testing sets\r\n",
        "y_train = y[:-20]\r\n",
        "y_test = y[-20:]"
      ],
      "execution_count": 50,
      "outputs": []
    },
    {
      "cell_type": "code",
      "metadata": {
        "colab": {
          "base_uri": "https://localhost:8080/"
        },
        "id": "JYh2_4fQBevy",
        "outputId": "91344681-acec-4d49-c4d7-944f7d03ee1b"
      },
      "source": [
        "regr = linear_model.LinearRegression()\r\n",
        "\r\n",
        "# Train the model using the training sets\r\n",
        "regr.fit(X_train, y_train)\r\n",
        "\r\n",
        "# Make predictions using the testing set\r\n",
        "y_pred = regr.predict(X_test)\r\n",
        "\r\n",
        "# The coefficients\r\n",
        "print('Coefficients: \\n', regr.coef_)\r\n",
        "# The mean squared error\r\n",
        "print('Mean squared error: %.2f'\r\n",
        "      % mean_squared_error(y_test, y_pred))\r\n",
        "# The coefficient of determination: 1 is perfect prediction\r\n",
        "print('Coefficient of determination: %.2f'\r\n",
        "      % r2_score(y_test, y_pred))"
      ],
      "execution_count": 51,
      "outputs": [
        {
          "output_type": "stream",
          "text": [
            "Coefficients: \n",
            " [[0.2492965  0.25613915 0.24326566 0.26111033]]\n",
            "Mean squared error: 0.02\n",
            "Coefficient of determination: 0.96\n"
          ],
          "name": "stdout"
        }
      ]
    },
    {
      "cell_type": "code",
      "metadata": {
        "colab": {
          "base_uri": "https://localhost:8080/"
        },
        "id": "dO2Gdri0BswC",
        "outputId": "4b2149cf-d11b-42fc-bb59-fd2fd067e643"
      },
      "source": [
        "regr.predict([[8.5, 8.5, 7, 6]])"
      ],
      "execution_count": 53,
      "outputs": [
        {
          "output_type": "execute_result",
          "data": {
            "text/plain": [
              "array([[7.56711856]])"
            ]
          },
          "metadata": {
            "tags": []
          },
          "execution_count": 53
        }
      ]
    },
    {
      "cell_type": "markdown",
      "metadata": {
        "id": "9zza_2ApDZBs"
      },
      "source": [
        "#Predict L and R based on W and S"
      ]
    },
    {
      "cell_type": "markdown",
      "metadata": {
        "id": "tRcv_c-FH3o7"
      },
      "source": [
        "**Prepare data**"
      ]
    },
    {
      "cell_type": "code",
      "metadata": {
        "colab": {
          "base_uri": "https://localhost:8080/",
          "height": 204
        },
        "id": "BUax5klJDXiy",
        "outputId": "6b3f99b3-ac53-4120-f5e6-c977cc0157a3"
      },
      "source": [
        "X = df.copy(deep=True)\r\n",
        "del X['name']\r\n",
        "del X['reading']\r\n",
        "del X['listening']\r\n",
        "del X['overall']\r\n",
        "X.head()"
      ],
      "execution_count": 78,
      "outputs": [
        {
          "output_type": "execute_result",
          "data": {
            "text/html": [
              "<div>\n",
              "<style scoped>\n",
              "    .dataframe tbody tr th:only-of-type {\n",
              "        vertical-align: middle;\n",
              "    }\n",
              "\n",
              "    .dataframe tbody tr th {\n",
              "        vertical-align: top;\n",
              "    }\n",
              "\n",
              "    .dataframe thead th {\n",
              "        text-align: right;\n",
              "    }\n",
              "</style>\n",
              "<table border=\"1\" class=\"dataframe\">\n",
              "  <thead>\n",
              "    <tr style=\"text-align: right;\">\n",
              "      <th></th>\n",
              "      <th>writing</th>\n",
              "      <th>speaking</th>\n",
              "    </tr>\n",
              "  </thead>\n",
              "  <tbody>\n",
              "    <tr>\n",
              "      <th>0</th>\n",
              "      <td>2.5</td>\n",
              "      <td>4.5</td>\n",
              "    </tr>\n",
              "    <tr>\n",
              "      <th>1</th>\n",
              "      <td>7.0</td>\n",
              "      <td>6.5</td>\n",
              "    </tr>\n",
              "    <tr>\n",
              "      <th>2</th>\n",
              "      <td>6.5</td>\n",
              "      <td>6.0</td>\n",
              "    </tr>\n",
              "    <tr>\n",
              "      <th>3</th>\n",
              "      <td>5.5</td>\n",
              "      <td>6.5</td>\n",
              "    </tr>\n",
              "    <tr>\n",
              "      <th>4</th>\n",
              "      <td>3.0</td>\n",
              "      <td>5.0</td>\n",
              "    </tr>\n",
              "  </tbody>\n",
              "</table>\n",
              "</div>"
            ],
            "text/plain": [
              "   writing  speaking\n",
              "0      2.5       4.5\n",
              "1      7.0       6.5\n",
              "2      6.5       6.0\n",
              "3      5.5       6.5\n",
              "4      3.0       5.0"
            ]
          },
          "metadata": {
            "tags": []
          },
          "execution_count": 78
        }
      ]
    },
    {
      "cell_type": "code",
      "metadata": {
        "colab": {
          "base_uri": "https://localhost:8080/",
          "height": 204
        },
        "id": "IdnX5wlYDSuC",
        "outputId": "767de1d3-a2c8-4dcc-9d3e-38ded8f9837b"
      },
      "source": [
        "y = df.copy(deep=True)\r\n",
        "del y['name']\r\n",
        "del y['writing']\r\n",
        "del y['speaking']\r\n",
        "del y['overall']\r\n",
        "y.head()"
      ],
      "execution_count": 79,
      "outputs": [
        {
          "output_type": "execute_result",
          "data": {
            "text/html": [
              "<div>\n",
              "<style scoped>\n",
              "    .dataframe tbody tr th:only-of-type {\n",
              "        vertical-align: middle;\n",
              "    }\n",
              "\n",
              "    .dataframe tbody tr th {\n",
              "        vertical-align: top;\n",
              "    }\n",
              "\n",
              "    .dataframe thead th {\n",
              "        text-align: right;\n",
              "    }\n",
              "</style>\n",
              "<table border=\"1\" class=\"dataframe\">\n",
              "  <thead>\n",
              "    <tr style=\"text-align: right;\">\n",
              "      <th></th>\n",
              "      <th>listening</th>\n",
              "      <th>reading</th>\n",
              "    </tr>\n",
              "  </thead>\n",
              "  <tbody>\n",
              "    <tr>\n",
              "      <th>0</th>\n",
              "      <td>3.5</td>\n",
              "      <td>3.5</td>\n",
              "    </tr>\n",
              "    <tr>\n",
              "      <th>1</th>\n",
              "      <td>7.0</td>\n",
              "      <td>6.5</td>\n",
              "    </tr>\n",
              "    <tr>\n",
              "      <th>2</th>\n",
              "      <td>6.0</td>\n",
              "      <td>6.5</td>\n",
              "    </tr>\n",
              "    <tr>\n",
              "      <th>3</th>\n",
              "      <td>6.0</td>\n",
              "      <td>6.5</td>\n",
              "    </tr>\n",
              "    <tr>\n",
              "      <th>4</th>\n",
              "      <td>4.0</td>\n",
              "      <td>4.5</td>\n",
              "    </tr>\n",
              "  </tbody>\n",
              "</table>\n",
              "</div>"
            ],
            "text/plain": [
              "   listening  reading\n",
              "0        3.5      3.5\n",
              "1        7.0      6.5\n",
              "2        6.0      6.5\n",
              "3        6.0      6.5\n",
              "4        4.0      4.5"
            ]
          },
          "metadata": {
            "tags": []
          },
          "execution_count": 79
        }
      ]
    },
    {
      "cell_type": "code",
      "metadata": {
        "id": "DdeRbcVrEe6d"
      },
      "source": [
        "# Split the data into training/testing sets\r\n",
        "X_train = X[:-20]\r\n",
        "X_test = X[-20:]\r\n",
        "\r\n",
        "# Split the targets into training/testing sets\r\n",
        "y_train = y[:-20]\r\n",
        "y_test = y[-20:]"
      ],
      "execution_count": 80,
      "outputs": []
    },
    {
      "cell_type": "markdown",
      "metadata": {
        "id": "gv3U9EQvGqou"
      },
      "source": [
        "**Linear model**"
      ]
    },
    {
      "cell_type": "code",
      "metadata": {
        "colab": {
          "base_uri": "https://localhost:8080/"
        },
        "id": "ui_860FXEYBd",
        "outputId": "71256138-6cd2-47c5-d348-4fe56e18cfde"
      },
      "source": [
        "regr = linear_model.LinearRegression()\r\n",
        "\r\n",
        "# Train the model using the training sets\r\n",
        "regr.fit(X_train, y_train)\r\n",
        "\r\n",
        "# Make predictions using the testing set\r\n",
        "y_pred = regr.predict(X_test)\r\n",
        "\r\n",
        "# The coefficients\r\n",
        "print('Coefficients: \\n', regr.coef_)\r\n",
        "# The mean squared error\r\n",
        "print('Mean squared error: %.2f'\r\n",
        "      % mean_squared_error(y_test, y_pred))\r\n",
        "# The coefficient of determination: 1 is perfect prediction\r\n",
        "print('Coefficient of determination: %.2f'\r\n",
        "      % r2_score(y_test, y_pred, multioutput='variance_weighted'))"
      ],
      "execution_count": 117,
      "outputs": [
        {
          "output_type": "stream",
          "text": [
            "Coefficients: \n",
            " [[0.24694295 0.44965043]\n",
            " [0.26434638 0.32665358]]\n",
            "Mean squared error: 0.70\n",
            "Coefficient of determination: 0.11\n"
          ],
          "name": "stdout"
        }
      ]
    },
    {
      "cell_type": "code",
      "metadata": {
        "colab": {
          "base_uri": "https://localhost:8080/"
        },
        "id": "Ro5RZb2IEtd7",
        "outputId": "c47d2327-5040-4236-d0ce-4f050e18cae3"
      },
      "source": [
        "regr.predict([[6.5, 7]])"
      ],
      "execution_count": 118,
      "outputs": [
        {
          "output_type": "execute_result",
          "data": {
            "text/plain": [
              "array([[5.73380099, 6.3566892 ]])"
            ]
          },
          "metadata": {
            "tags": []
          },
          "execution_count": 118
        }
      ]
    },
    {
      "cell_type": "markdown",
      "metadata": {
        "id": "K7zMeUtbGxMT"
      },
      "source": [
        "**Polynomial model**"
      ]
    },
    {
      "cell_type": "code",
      "metadata": {
        "colab": {
          "base_uri": "https://localhost:8080/"
        },
        "id": "agsLZnMnG6T4",
        "outputId": "6273e562-982b-4946-a430-e930786405f3"
      },
      "source": [
        "degree = 4\r\n",
        "scaler = preprocessing.StandardScaler()\r\n",
        "polyreg = make_pipeline(PolynomialFeatures(degree), scaler, LinearRegression())\r\n",
        "\r\n",
        "# Train the model using the training sets\r\n",
        "polyreg.fit(X=X_train, y=y_train)\r\n",
        "\r\n",
        "# Make predictions using the testing set\r\n",
        "y_pred = polyreg.predict(X_test)\r\n",
        "\r\n",
        "# The mean squared error\r\n",
        "print('Mean squared error: %.2f'\r\n",
        "      % mean_squared_error(y_test, y_pred))\r\n",
        "# The coefficient of determination: 1 is perfect prediction\r\n",
        "print('Coefficient of determination: %.2f'\r\n",
        "      % r2_score(y_test, y_pred, multioutput='variance_weighted'))"
      ],
      "execution_count": 157,
      "outputs": [
        {
          "output_type": "stream",
          "text": [
            "Mean squared error: 0.69\n",
            "Coefficient of determination: 0.13\n"
          ],
          "name": "stdout"
        }
      ]
    },
    {
      "cell_type": "code",
      "metadata": {
        "colab": {
          "base_uri": "https://localhost:8080/"
        },
        "id": "dSnS_0sVIwCV",
        "outputId": "ec2dbf92-3b5a-45d4-b07b-dbd240b44f75"
      },
      "source": [
        "polyreg.predict([[7, 6]])"
      ],
      "execution_count": 159,
      "outputs": [
        {
          "output_type": "execute_result",
          "data": {
            "text/plain": [
              "array([[4.96834388, 5.89860332]])"
            ]
          },
          "metadata": {
            "tags": []
          },
          "execution_count": 159
        }
      ]
    }
  ]
}